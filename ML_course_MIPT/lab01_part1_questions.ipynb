{
  "cells": [
    {
      "cell_type": "markdown",
      "metadata": {
        "id": "jqxKctoajHwW"
      },
      "source": [
        "*Credits: materials from this notebook belong to YSDA [Practical DL](https://github.com/yandexdataschool/Practical_DL) course. Special thanks for making them available online.*"
      ]
    },
    {
      "cell_type": "markdown",
      "metadata": {
        "id": "SsO3HTZkjHwY"
      },
      "source": [
        "# Lab assignment №1, part 1\n",
        "\n",
        "This lab assignment consists of several parts. You are supposed to make some transformations, train some models, estimate the quality of the models and explain your results.\n",
        "\n",
        "Several comments:\n",
        "* Don't hesitate to ask questions, it's a good practice.\n",
        "* No private/public sharing, please. The copied assignments will be graded with 0 points.\n",
        "* Blocks of this lab will be graded separately."
      ]
    },
    {
      "cell_type": "markdown",
      "metadata": {
        "id": "hRh5KyYUjHwZ"
      },
      "source": [
        "## 1. Matrix differentiation"
      ]
    },
    {
      "cell_type": "markdown",
      "metadata": {
        "id": "ddlytM0mjHwZ"
      },
      "source": [
        "Since it easy to google every task please please please try to undestand what's going on. The \"just answer\" thing will be not counted, make sure to present derivation of your solution. It is absolutely OK if you found an answer on web then just exercise in $\\LaTeX$ copying it into here."
      ]
    },
    {
      "cell_type": "markdown",
      "metadata": {
        "id": "Kdr8Bt4qjHwa"
      },
      "source": [
        "Useful links:\n",
        "[1](http://www.machinelearning.ru/wiki/images/2/2a/Matrix-Gauss.pdf)\n",
        "[2](http://www.atmos.washington.edu/~dennis/MatrixCalculus.pdf)"
      ]
    },
    {
      "cell_type": "markdown",
      "metadata": {
        "id": "Kgnaua5ljHwa"
      },
      "source": [
        "## ex. 1"
      ]
    },
    {
      "cell_type": "markdown",
      "metadata": {
        "id": "w2mJALXOjHwa"
      },
      "source": [
        "$$  \n",
        "y = x^Tx,  \\quad x \\in \\mathbb{R}^N\n",
        "$$"
      ]
    },
    {
      "cell_type": "markdown",
      "metadata": {
        "id": "YqZWri_DjHwb"
      },
      "source": [
        "$$\n",
        "\\frac{dy}{dx} =\n",
        "$$"
      ]
    },
    {
      "cell_type": "code",
      "execution_count": 28,
      "metadata": {
        "collapsed": true,
        "jupyter": {
          "outputs_hidden": true
        },
        "colab": {
          "base_uri": "https://localhost:8080/",
          "height": 124
        },
        "id": "wODrMajUjHwb",
        "outputId": "cddbebf8-ee6a-4ee7-e116-262a5009bfbb"
      },
      "outputs": [
        {
          "output_type": "display_data",
          "data": {
            "text/plain": [
              "<IPython.core.display.Latex object>"
            ],
            "text/latex": "$\\mathbf x * \\mathbf x^T = x1*x1 + x2 * x2 + ... xn * xn$"
          },
          "metadata": {}
        },
        {
          "output_type": "stream",
          "name": "stdout",
          "text": [
            "\n"
          ]
        },
        {
          "output_type": "display_data",
          "data": {
            "text/plain": [
              "<IPython.core.display.Latex object>"
            ],
            "text/latex": "$\\frac{d(x*x^T)}{dx} = \\frac{d(x^2)}{dx} = 2x^T$"
          },
          "metadata": {}
        },
        {
          "output_type": "stream",
          "name": "stdout",
          "text": [
            "\n"
          ]
        },
        {
          "output_type": "display_data",
          "data": {
            "text/plain": [
              "<IPython.core.display.Latex object>"
            ],
            "text/latex": "$2x^T$"
          },
          "metadata": {}
        }
      ],
      "source": [
        "from IPython.display import display, Latex\n",
        "display(Latex(f\"$\\mathbf x * \\mathbf x^T = x1*x1 + x2 * x2 + ... xn * xn$\"))\n",
        "print()\n",
        "display(Latex('$\\\\frac{d(x*x^T)}{dx} = \\\\frac{d(x^2)}{dx} = 2x^T$'))\n",
        "print()\n",
        "display(Latex(f\"$2x^T$\"))"
      ]
    },
    {
      "cell_type": "markdown",
      "metadata": {
        "id": "PxGGscDEjHwb"
      },
      "source": [
        "## ex. 2"
      ]
    },
    {
      "cell_type": "markdown",
      "metadata": {
        "id": "r6wFSKepjHwc"
      },
      "source": [
        "$$ y = tr(AB) \\quad A,B \\in \\mathbb{R}^{N \\times N} $$"
      ]
    },
    {
      "cell_type": "markdown",
      "metadata": {
        "id": "vw4HG69CjHwc"
      },
      "source": [
        "$$\n",
        "\\frac{dy}{dA} =\n",
        "$$"
      ]
    },
    {
      "cell_type": "code",
      "execution_count": 35,
      "metadata": {
        "collapsed": true,
        "jupyter": {
          "outputs_hidden": true
        },
        "colab": {
          "base_uri": "https://localhost:8080/",
          "height": 288
        },
        "id": "flbV_ljIjHwc",
        "outputId": "124a898b-5106-4d5a-ccd6-6bdd1ecf966d"
      },
      "outputs": [
        {
          "output_type": "display_data",
          "data": {
            "text/plain": [
              "<IPython.core.display.Latex object>"
            ],
            "text/latex": "$\\nabla_A \\operatorname{tr} A B=B^T$"
          },
          "metadata": {}
        },
        {
          "output_type": "display_data",
          "data": {
            "text/plain": [
              "<IPython.core.display.Latex object>"
            ],
            "text/latex": "$\\operatorname{tr} A B=\\operatorname{tr}\\left[\\begin{array}{c}\\longleftarrow \\overrightarrow{a_1} \\longrightarrow \\\\ \\longleftarrow \\overrightarrow{a_2} \\longrightarrow \\\\ \\vdots \\\\ \\longleftarrow \\overrightarrow{a_n} \\longrightarrow\\end{array}\\right]\\left[\\begin{array}{cccc}\\uparrow & \\uparrow & & \\uparrow \\\\ \\overrightarrow{b_1} & \\overrightarrow{b_2} & \\cdots & \\overrightarrow{b_n} \\\\ \\downarrow & \\downarrow & & \\downarrow\\end{array}\\right]$"
          },
          "metadata": {}
        },
        {
          "output_type": "display_data",
          "data": {
            "text/plain": [
              "<IPython.core.display.Latex object>"
            ],
            "text/latex": "$\\begin{aligned} & =\\sum_{i=1}^m a_{1 i} b_{i 1}+\\sum_{i=1}^m a_{2 i} b_{i 2}+\\ldots+\\sum_{i=1}^m a_{n i} b_{i n} \\\\ & \\Rightarrow \\frac{\\partial \\operatorname{tr} A B}{\\partial a_{i j}}=b_{j i} \\\\ & \\Rightarrow \\nabla_A \\operatorname{tr} A B=B^T \\\\ & \\end{aligned}$"
          },
          "metadata": {}
        }
      ],
      "source": [
        "display(Latex(\"$\\\\nabla_A \\\\operatorname{tr} A B=B^T$\"))\n",
        "display(Latex(\"$\\\\operatorname{tr} A B=\\\\operatorname{tr}\\\\left[\\\\begin{array}{c}\\\\longleftarrow \\\\overrightarrow{a_1} \\\\longrightarrow \\\\\\\\ \\\\longleftarrow \\\\overrightarrow{a_2} \\\\longrightarrow \\\\\\\\ \\\\vdots \\\\\\\\ \\\\longleftarrow \\\\overrightarrow{a_n} \\\\longrightarrow\\\\end{array}\\\\right]\\\\left[\\\\begin{array}{cccc}\\\\uparrow & \\\\uparrow & & \\\\uparrow \\\\\\\\ \\\\overrightarrow{b_1} & \\\\overrightarrow{b_2} & \\\\cdots & \\\\overrightarrow{b_n} \\\\\\\\ \\\\downarrow & \\\\downarrow & & \\\\downarrow\\\\end{array}\\\\right]$\"))\n",
        "display(Latex(\"$\\\\begin{aligned} & =\\\\sum_{i=1}^m a_{1 i} b_{i 1}+\\\\sum_{i=1}^m a_{2 i} b_{i 2}+\\\\ldots+\\\\sum_{i=1}^m a_{n i} b_{i n} \\\\\\\\ & \\\\Rightarrow \\\\frac{\\\\partial \\\\operatorname{tr} A B}{\\\\partial a_{i j}}=b_{j i} \\\\\\\\ & \\\\Rightarrow \\\\nabla_A \\\\operatorname{tr} A B=B^T \\\\\\\\ & \\\\end{aligned}$\"))"
      ]
    },
    {
      "cell_type": "markdown",
      "metadata": {
        "id": "CUKSSpJTjHwc"
      },
      "source": [
        "## ex. 3"
      ]
    },
    {
      "cell_type": "markdown",
      "metadata": {
        "id": "pKVZ7TstjHwc"
      },
      "source": [
        "$$  \n",
        "y = x^TAc , \\quad A\\in \\mathbb{R}^{N \\times N}, x\\in \\mathbb{R}^{N}, c\\in \\mathbb{R}^{N}\n",
        "$$"
      ]
    },
    {
      "cell_type": "markdown",
      "metadata": {
        "id": "RiXN_IzPjHwc"
      },
      "source": [
        "$$\n",
        "\\frac{dy}{dx} =\n",
        "$$"
      ]
    },
    {
      "cell_type": "markdown",
      "metadata": {
        "id": "sYF1eIHgjHwc"
      },
      "source": [
        "$$\n",
        "\\frac{dy}{dA} =\n",
        "$$"
      ]
    },
    {
      "cell_type": "markdown",
      "metadata": {
        "id": "laRBWhCrjHwc"
      },
      "source": [
        "Hint for the latter (one of the ways): use *ex. 2* result and the fact\n",
        "$$\n",
        "tr(ABC) = tr (CAB)\n",
        "$$"
      ]
    },
    {
      "cell_type": "code",
      "execution_count": 41,
      "metadata": {
        "collapsed": true,
        "jupyter": {
          "outputs_hidden": true
        },
        "colab": {
          "base_uri": "https://localhost:8080/",
          "height": 128
        },
        "id": "UIg6UBtKjHwd",
        "outputId": "b14f9548-9d01-4ea7-c4a5-405bca00c4ef"
      },
      "outputs": [
        {
          "output_type": "display_data",
          "data": {
            "text/plain": [
              "<IPython.core.display.Latex object>"
            ],
            "text/latex": "$\\sum_{i j} x_i a_{i j} c_j$"
          },
          "metadata": {}
        },
        {
          "output_type": "display_data",
          "data": {
            "text/plain": [
              "<IPython.core.display.Latex object>"
            ],
            "text/latex": "$\\Rightarrow \\frac{d y}{d x}=A \\cdot c$"
          },
          "metadata": {}
        },
        {
          "output_type": "stream",
          "name": "stdout",
          "text": [
            "\n"
          ]
        },
        {
          "output_type": "display_data",
          "data": {
            "text/plain": [
              "<IPython.core.display.Latex object>"
            ],
            "text/latex": "$d\\left(x^T A c\\right)=(c \\otimes x)^T d A=\\left(c x^T\\right)^T d A$"
          },
          "metadata": {}
        },
        {
          "output_type": "display_data",
          "data": {
            "text/plain": [
              "<IPython.core.display.Latex object>"
            ],
            "text/latex": "$\\Rightarrow \\frac{d y}{d A}=x \\cdot c^T$"
          },
          "metadata": {}
        }
      ],
      "source": [
        "display(Latex(\"$\\\\sum_{i j} x_i a_{i j} c_j$\"))\n",
        "display(Latex(\"$\\\\Rightarrow \\\\frac{d y}{d x}=A \\\\cdot c$\"))\n",
        "print()\n",
        "display(Latex(\"$d\\\\left(x^T A c\\\\right)=(c \\\\otimes x)^T d A=\\\\left(c x^T\\\\right)^T d A$\"))\n",
        "display(Latex(\"$\\\\Rightarrow \\\\frac{d y}{d A}=x \\\\cdot c^T$\"))\n"
      ]
    },
    {
      "cell_type": "markdown",
      "metadata": {
        "id": "FmFyjdELjHwd"
      },
      "source": [
        "## ex. 4"
      ]
    },
    {
      "cell_type": "markdown",
      "metadata": {
        "id": "fO7qsAI2jHwd"
      },
      "source": [
        "Classic matrix factorization example. Given matrix $X$ you need to find $A$, $S$ to approximate $X$. This can be done by simple gradient descent iteratively alternating $A$ and $S$ updates.\n",
        "$$\n",
        "J = || X - AS ||_F^2  , \\quad A\\in \\mathbb{R}^{N \\times R} , \\quad S\\in \\mathbb{R}^{R \\times M}\n",
        "$$\n",
        "$$\n",
        "\\frac{dJ}{dS} = ?\n",
        "$$\n",
        "\n",
        "You may use one of the following approaches:"
      ]
    },
    {
      "cell_type": "markdown",
      "metadata": {
        "id": "fIty5CBdjHwd"
      },
      "source": [
        "#### First approach\n",
        "Using ex.2 and the fact:\n",
        "$$\n",
        "|| X ||_F^2 = tr(XX^T)\n",
        "$$\n",
        "it is easy to derive gradients (you can find it in one of the refs)."
      ]
    },
    {
      "cell_type": "markdown",
      "metadata": {
        "id": "sLgYrPjLjHwd"
      },
      "source": [
        "#### Second approach\n",
        "You can use *slightly different techniques* if they suits you. Take a look at this derivation:\n",
        "<img src=\"https://github.com/girafe-ai/ml-course/blob/23f_basic/homeworks/lab01_ml_pipeline/grad.png?raw=1\">\n",
        "(excerpt from [Handbook of blind source separation, Jutten, page 517](https://books.google.ru/books?id=PTbj03bYH6kC&printsec=frontcover&dq=Handbook+of+Blind+Source+Separation&hl=en&sa=X&ved=0ahUKEwi-q_apiJDLAhULvXIKHVXJDWcQ6AEIHDAA#v=onepage&q=Handbook%20of%20Blind%20Source%20Separation&f=false), open for better picture)."
      ]
    },
    {
      "cell_type": "markdown",
      "metadata": {
        "id": "ynjGXQhgjHwd"
      },
      "source": [
        "#### Third approach\n",
        "And finally we can use chain rule!\n",
        "let $ F = AS $\n",
        "\n",
        "**Find**\n",
        "$$\n",
        "\\frac{dJ}{dF} =  \n",
        "$$\n",
        "and\n",
        "$$\n",
        "\\frac{dF}{dS} =  \n",
        "$$\n",
        "(the shape should be $ NM \\times RM )$.\n",
        "\n",
        "Now it is easy do get desired gradients:\n",
        "$$\n",
        "\\frac{dJ}{dS} =  \n",
        "$$"
      ]
    },
    {
      "cell_type": "code",
      "source": [
        "display(Latex(\"$\\\\|X-A S\\\\|=\\\\operatorname{tr}\\\\left((X-F)(X-F)^T\\\\right) = \\\\operatorname{tr}\\\\left((X-F)\\\\left(X^T-F^T\\\\right)\\\\right)=\\\\operatorname{tr}\\\\left(X X^T-X F^T-\\\\right. - \\\\left.\\\\left.F X^T+F F^T\\\\right)\\\\right)$\"))\n",
        "display(Latex(\"$\\\\Rightarrow \\\\frac{d \\\\operatorname{tr}\\\\left(X X^T-X F^T-F X^T+F F T\\\\right)}{d F} \\\\cdot \\\\frac{d F}{d S} = \\\\frac{d \\\\ln \\\\left(X X^T\\\\right)}{d F} \\\\frac{d F}{d S}-\\\\frac{d \\\\operatorname{tr}\\\\left(X F^T\\\\right)}{d F} \\\\frac{d F}{d S}-\\\\frac{d t r\\\\left(F X^T\\\\right)}{d F} \\\\frac{d F}{d S} - \\\\frac{d \\\\operatorname{tr}\\\\left(F F^T\\\\right)}{d F} \\\\cdot \\\\frac{d F}{d S}=-2 x \\\\cdot A+2 \\\\cdot F \\\\cdot A=-2 x \\\\cdot A+2 A S A$\"))\n"
      ],
      "metadata": {
        "colab": {
          "base_uri": "https://localhost:8080/",
          "height": 67
        },
        "id": "-XzKwS8BJYTS",
        "outputId": "d4dde811-af68-4715-d54d-57e66dd84407"
      },
      "execution_count": 47,
      "outputs": [
        {
          "output_type": "display_data",
          "data": {
            "text/plain": [
              "<IPython.core.display.Latex object>"
            ],
            "text/latex": "$\\|X-A S\\|=\\operatorname{tr}\\left((X-F)(X-F)^T\\right) = \\operatorname{tr}\\left((X-F)\\left(X^T-F^T\\right)\\right)=\\operatorname{tr}\\left(X X^T-X F^T-\\right. - \\left.\\left.F X^T+F F^T\\right)\\right)$"
          },
          "metadata": {}
        },
        {
          "output_type": "display_data",
          "data": {
            "text/plain": [
              "<IPython.core.display.Latex object>"
            ],
            "text/latex": "$\\Rightarrow \\frac{d \\operatorname{tr}\\left(X X^T-X F^T-F X^T+F F T\\right)}{d F} \\cdot \\frac{d F}{d S} = \\frac{d \\ln \\left(X X^T\\right)}{d F} \\frac{d F}{d S}-\\frac{d \\operatorname{tr}\\left(X F^T\\right)}{d F} \\frac{d F}{d S}-\\frac{d t r\\left(F X^T\\right)}{d F} \\frac{d F}{d S} - \\frac{d \\operatorname{tr}\\left(F F^T\\right)}{d F} \\cdot \\frac{d F}{d S}=-2 x \\cdot A+2 \\cdot F \\cdot A=-2 x \\cdot A+2 A S A$"
          },
          "metadata": {}
        }
      ]
    },
    {
      "cell_type": "markdown",
      "metadata": {
        "collapsed": true,
        "jupyter": {
          "outputs_hidden": true
        },
        "id": "o6vEYQykjHwd"
      },
      "source": [
        "## 2. kNN questions\n",
        "Here come the questions from the assignment0_01. Please, refer to the assignment0_01 to get the context of the questions."
      ]
    },
    {
      "cell_type": "markdown",
      "metadata": {
        "id": "SY1ODJ3_jHwd"
      },
      "source": [
        "### Question 1\n",
        "\n",
        "Notice the structured patterns in the distance matrix, where some rows or columns are visible brighter. (Note that with the default color scheme black indicates low distances while white indicates high distances.)\n",
        "\n",
        "- What in the data is the cause behind the distinctly bright rows?\n",
        "- What causes the columns?\n",
        "\n",
        "*Your Answer:*\n",
        "- Likely, this observation belongs to a class not present in the training data set, or at least significantly differs, probably in terms of background color, from the majority of the training data.\n",
        "- This training data point has no counterparts in the test data set.\n",
        "\n",
        "\n"
      ]
    },
    {
      "cell_type": "markdown",
      "metadata": {
        "id": "dqfJl0MzjHwe"
      },
      "source": [
        "### Question 2\n",
        "\n",
        "We can also use other distance metrics such as L1 distance.\n",
        "For pixel values $p_{ij}^{(k)}$ at location $(i,j)$ of some image $I_k$,\n",
        "\n",
        "the mean $\\mu$ across all pixels over all images is $$\\mu=\\frac{1}{nhw}\\sum_{k=1}^n\\sum_{i=1}^{h}\\sum_{j=1}^{w}p_{ij}^{(k)}$$\n",
        "And the pixel-wise mean $\\mu_{ij}$ across all images is\n",
        "$$\\mu_{ij}=\\frac{1}{n}\\sum_{k=1}^np_{ij}^{(k)}.$$\n",
        "The general standard deviation $\\sigma$ and pixel-wise standard deviation $\\sigma_{ij}$ is defined similarly.\n",
        "\n",
        "Which of the following preprocessing steps will not change the performance of a Nearest Neighbor classifier that uses L1 distance? Select all that apply.\n",
        "1. Subtracting the mean $\\mu$ ($\\tilde{p}_{ij}^{(k)}=p_{ij}^{(k)}-\\mu$.)\n",
        "2. Subtracting the per pixel mean $\\mu_{ij}$  ($\\tilde{p}_{ij}^{(k)}=p_{ij}^{(k)}-\\mu_{ij}$.)\n",
        "3. Subtracting the mean $\\mu$ and dividing by the standard deviation $\\sigma$.\n",
        "4. Subtracting the pixel-wise mean $\\mu_{ij}$ and dividing by the pixel-wise standard deviation $\\sigma_{ij}$.\n",
        "5. Rotating the coordinate axes of the data.\n",
        "\n",
        "*Your Answer:* 1,3\n",
        "\n",
        "\n",
        "*Your Explanation:*\n",
        "- 1 and 3: \"mu\" and \"sigma\" are the same and impact all distances.\n",
        "- 2 and 4: Each pixel can have different \"mu\" values, and this will affect the L1 distance.\n",
        "- 5: L1 depends on the coordinate, leading to changes in performance.\n",
        "\n"
      ]
    },
    {
      "cell_type": "markdown",
      "metadata": {
        "id": "20ISdu_njHwe"
      },
      "source": [
        "## Question 3\n",
        "\n",
        "Which of the following statements about $k$-Nearest Neighbor ($k$-NN) are true in a classification setting, and for all $k$? Select all that apply.\n",
        "1. The decision boundary (hyperplane between classes in feature space) of the k-NN classifier is linear.\n",
        "2. The training error of a 1-NN will always be lower than that of 5-NN.\n",
        "3. The test error of a 1-NN will always be lower than that of a 5-NN.\n",
        "4. The time needed to classify a test example with the k-NN classifier grows with the size of the training set.\n",
        "5. None of the above.\n",
        "\n",
        "*Your Answer:* 2,4\n",
        "\n",
        "\n",
        "*Your Explanation:*\n",
        "1. Incorrect. The decision boundaries of k-nearest neighbors (kNN) consist of locally linear segments, but they generally exhibit complex shapes that do not align with simple lines in 2D or hyperplanes in higher dimensions.\n",
        "\n",
        "2. Correct. When the training data is used as the test set with one nearest neighbor, the nearest neighbor will be the same point, resulting in a 0 error. In the case of 5-NN, an error of 0 or higher is possible, with 0 being the minimum error when the nearest neighbor matches the test point.\n",
        "\n",
        "3. Incorrect. For a 1-NN, you are considering only the nearest neighbor, which can lead to overfitting. If there is noise or outliers in the data, the model might capture these and result in a lower bias but higher variance, potentially leading to a higher test error.\n",
        "For a 5-NN, you are considering the five nearest neighbors, which can provide a more robust estimate by reducing the impact of individual noisy data points. This can lead to a lower variance and potentially lower test error, especially if the data has noise or outliers.\n",
        "\n",
        "4. Correct. Indeed, K-Nearest Neighbors (KNN) necessitates the computation of distances between a given data point and all other data points within the dataset, which can be resource-intensive, especially for larger datasets, as it entails examining the entire dataset for each prediction.\n",
        "\n",
        "\n"
      ]
    }
  ],
  "metadata": {
    "kernelspec": {
      "display_name": "mipt",
      "language": "python",
      "name": "mipt"
    },
    "language_info": {
      "codemirror_mode": {
        "name": "ipython",
        "version": 3
      },
      "file_extension": ".py",
      "mimetype": "text/x-python",
      "name": "python",
      "nbconvert_exporter": "python",
      "pygments_lexer": "ipython3",
      "version": "3.9.5"
    },
    "colab": {
      "provenance": []
    }
  },
  "nbformat": 4,
  "nbformat_minor": 0
}