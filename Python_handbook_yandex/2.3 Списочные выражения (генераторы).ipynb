{
 "cells": [
  {
   "cell_type": "code",
   "execution_count": null,
   "id": "0eb0601a",
   "metadata": {},
   "outputs": [],
   "source": [
    "# Список квадратов\n",
    "# Большинство задач этой главы ориентированы на отработку навыков по построению списочных выражений.\n",
    "\n",
    "# Вашему решению будет предоставлены две переменные a и b. Напишите списочное выражение для получения квадратов чисел из диапазона\n",
    "# [a,b].\n",
    "\n",
    "# Примечание\n",
    "# В решении не должно быть ничего, кроме списочного выражения."
   ]
  },
  {
   "cell_type": "code",
   "execution_count": null,
   "id": "8d9e0a4b",
   "metadata": {},
   "outputs": [],
   "source": [
    "[i ** 2 for i in range(a, b + 1)]"
   ]
  },
  {
   "cell_type": "code",
   "execution_count": null,
   "id": "cfb5c676",
   "metadata": {},
   "outputs": [],
   "source": [
    "# Таблица умножения 2.0\n",
    "# Вашему решению будет предоставлена единственная переменная n — необходимый размер таблицы умножения.\n",
    "\n",
    "# Напишите списочное выражения для генерации таблицы умножения.\n",
    "\n",
    "# Примечание\n",
    "# В решении не должно быть ничего, кроме списочного выражения."
   ]
  },
  {
   "cell_type": "code",
   "execution_count": null,
   "id": "12907d8d",
   "metadata": {},
   "outputs": [],
   "source": [
    "[[int(i * j) for j in range(1, n + 1)] for i in range(1, n + 1)]"
   ]
  },
  {
   "cell_type": "code",
   "execution_count": null,
   "id": "b54e3728",
   "metadata": {},
   "outputs": [],
   "source": [
    "# Длины всех слов\n",
    "# Вашему решению будет предоставлена строка sentence слов, разделённых пробелами.\n",
    "\n",
    "# Напишите списочное выражения для генерации списка длин слов.\n",
    "\n",
    "# Примечание\n",
    "# В решении не должно быть ничего, кроме списочного выражения."
   ]
  },
  {
   "cell_type": "code",
   "execution_count": null,
   "id": "da9ccd8f",
   "metadata": {},
   "outputs": [],
   "source": [
    "[len(x) for x in sentence.split()]"
   ]
  },
  {
   "cell_type": "code",
   "execution_count": null,
   "id": "c58fef8d",
   "metadata": {},
   "outputs": [],
   "source": [
    "# Множество нечетных чисел\n",
    "# Вашему решению будет предоставлен список numbers, содержащий натуральные числа.\n",
    "\n",
    "# Напишите выражение для генерации множества всех нечётных чисел среди переданных.\n",
    "\n",
    "# Примечание\n",
    "# В решении не должно быть ничего, кроме выражения."
   ]
  },
  {
   "cell_type": "code",
   "execution_count": null,
   "id": "a3e2862e",
   "metadata": {},
   "outputs": [],
   "source": [
    "{x for x in numbers if x % 2 == 1}"
   ]
  },
  {
   "cell_type": "code",
   "execution_count": null,
   "id": "571dfc4f",
   "metadata": {},
   "outputs": [],
   "source": [
    "# Множество всех полных квадратов\n",
    "# Полным квадратом назовём натуральное число, которое является квадратом другого натурального числа. Например: 1, 25, 144.\n",
    "\n",
    "# Вашему решению будет предоставлен список numbers, содержащий натуральные числа.\n",
    "\n",
    "# Разработайте выражение для генерации множества всех чисел, которые выступают полными квадратами.\n",
    "\n",
    "# Примечание\n",
    "# В решении не должно быть ничего, кроме выражения."
   ]
  },
  {
   "cell_type": "code",
   "execution_count": null,
   "id": "e3032cab",
   "metadata": {},
   "outputs": [],
   "source": [
    "{x for x in numbers if x ** 0.5 % 1 == 0}"
   ]
  },
  {
   "cell_type": "code",
   "execution_count": null,
   "id": "c0abf824",
   "metadata": {},
   "outputs": [],
   "source": [
    "# Буквенная статистика\n",
    "# Вашему решению будет предоставлена строка text.\n",
    "\n",
    "# Напишите выражение для генерации словаря, который содержит информацию о частоте употребления букв в заданной строке.\n",
    "\n",
    "# При анализе не учитывайте регистр, а ключами словаря сделайте использованные в строке буквы в нижнем регистре.\n",
    "\n",
    "# Примечание\n",
    "# В решении не должно быть ничего, кроме выражения."
   ]
  },
  {
   "cell_type": "code",
   "execution_count": null,
   "id": "ea3f2445",
   "metadata": {},
   "outputs": [],
   "source": [
    "{letter: text.lower().count(letter) for letter in text.lower() if letter.isalpha()}"
   ]
  },
  {
   "cell_type": "code",
   "execution_count": null,
   "id": "58cf2dd2",
   "metadata": {},
   "outputs": [],
   "source": [
    "# Делители\n",
    "# Вашему решению будет предоставлено множество numbers.\n",
    "\n",
    "# Продумайте выражение для генерации словаря содержащего информацию о делителях каждого из заданных чисел.\n",
    "\n",
    "# Примечание\n",
    "# В решении не должно быть ничего, кроме выражения.\n",
    "\n"
   ]
  },
  {
   "cell_type": "code",
   "execution_count": null,
   "id": "2bee833d",
   "metadata": {},
   "outputs": [],
   "source": [
    "{key: [i for i in range(1, key + 1) if key % i == 0] for key in numbers}"
   ]
  },
  {
   "cell_type": "code",
   "execution_count": null,
   "id": "07d0e4f2",
   "metadata": {},
   "outputs": [],
   "source": [
    "# Аббревиатура\n",
    "# Вашему решению предоставлена строка string.\n",
    "\n",
    "# Напишите выражение для генерации строки, представляющей собой аббревиатуру заданной.\n",
    "\n",
    "# Примечание\n",
    "# В решении не должно быть ничего, кроме выражения.\n",
    "\n"
   ]
  },
  {
   "cell_type": "code",
   "execution_count": null,
   "id": "11bf7372",
   "metadata": {},
   "outputs": [],
   "source": [
    "''.join(str(x[0]).upper() for x in string.split())"
   ]
  },
  {
   "cell_type": "code",
   "execution_count": null,
   "id": "8708c485",
   "metadata": {},
   "outputs": [],
   "source": [
    "# Преобразование в строку\n",
    "# Вашему решению предоставлен список натуральных чисел numbers.\n",
    "\n",
    "# Напишите выражение для генерации строки, представляющей собой отсортированный список чисел, записанных через дефис, окружённый пробелами, без повторений.\n",
    "\n",
    "# Примечание\n",
    "# В решении не должно быть ничего, кроме выражения."
   ]
  },
  {
   "cell_type": "code",
   "execution_count": null,
   "id": "7132c324",
   "metadata": {},
   "outputs": [],
   "source": [
    "''.join(str(i) + \" - \" for i in sorted(set(numbers)))[:-3]"
   ]
  },
  {
   "cell_type": "code",
   "execution_count": null,
   "id": "b79017c2",
   "metadata": {},
   "outputs": [],
   "source": [
    "# RLE наоборот\n",
    "# Вашему решению будет предоставлен список кортежей rle с символами и количеством их повторений.\n",
    "\n",
    "# Напишите выражение для генерации строки, из которой был получен данный список.\n",
    "\n",
    "# Примечание\n",
    "# В решении не должно быть ничего, кроме выражения."
   ]
  },
  {
   "cell_type": "code",
   "execution_count": null,
   "id": "02c8fa49",
   "metadata": {},
   "outputs": [],
   "source": [
    "''.join(x[0] * x[1] for x in rle)"
   ]
  }
 ],
 "metadata": {
  "kernelspec": {
   "display_name": "Python 3 (ipykernel)",
   "language": "python",
   "name": "python3"
  },
  "language_info": {
   "codemirror_mode": {
    "name": "ipython",
    "version": 3
   },
   "file_extension": ".py",
   "mimetype": "text/x-python",
   "name": "python",
   "nbconvert_exporter": "python",
   "pygments_lexer": "ipython3",
   "version": "3.11.3"
  }
 },
 "nbformat": 4,
 "nbformat_minor": 5
}
